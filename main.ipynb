{
 "cells": [
  {
   "cell_type": "code",
   "execution_count": 2,
   "id": "9a15ad5f",
   "metadata": {},
   "outputs": [],
   "source": [
    "import numpy as np\n",
    "from scipy import stats\n",
    "import pandas as pd"
   ]
  },
  {
   "cell_type": "code",
   "execution_count": 4,
   "id": "c839cfa5",
   "metadata": {},
   "outputs": [],
   "source": [
    "# Funkcja do obliczania statystyk\n",
    "def calculate_statistics(data):\n",
    "    mean = np.mean(data)\n",
    "    median = np.median(data)\n",
    "    mode = stats.mode(data)[0][0]\n",
    "    q1 = np.percentile(data, 25)\n",
    "    q3 = np.percentile(data, 75)\n",
    "    range_ = np.ptp(data)\n",
    "    variance = np.var(data)\n",
    "    std_dev = np.std(data)\n",
    "    return mean, median, mode, q1, q3, range_, variance, std_dev"
   ]
  },
  {
   "cell_type": "code",
   "execution_count": 5,
   "id": "24b57717",
   "metadata": {},
   "outputs": [],
   "source": [
    "# Generowanie danych\n",
    "np.random.seed(0)\n",
    "data_100 = np.random.normal(3, 1, 100)\n",
    "data_10000 = np.random.normal(3, 1, 10000)"
   ]
  },
  {
   "cell_type": "code",
   "execution_count": 11,
   "id": "04195e4f",
   "metadata": {},
   "outputs": [
    {
     "name": "stderr",
     "output_type": "stream",
     "text": [
      "/var/folders/wb/8j3wls812733g7vdmlj9wg300000gn/T/ipykernel_53123/3957279853.py:5: FutureWarning: Unlike other reduction functions (e.g. `skew`, `kurtosis`), the default behavior of `mode` typically preserves the axis it acts along. In SciPy 1.11.0, this behavior will change: the default value of `keepdims` will become False, the `axis` over which the statistic is taken will be eliminated, and the value None will no longer be accepted. Set `keepdims` to True or False to avoid this warning.\n",
      "  mode = stats.mode(data)[0][0]\n"
     ]
    }
   ],
   "source": [
    "# Obliczanie statystyk\n",
    "stats_100 = calculate_statistics(data_100)\n",
    "stats_10000 = calculate_statistics(data_10000)"
   ]
  },
  {
   "cell_type": "code",
   "execution_count": 8,
   "id": "304d47e4",
   "metadata": {},
   "outputs": [
    {
     "name": "stdout",
     "output_type": "stream",
     "text": [
      "Statystyki dla próby 100 elementów:\n",
      "Średnia: 3.0598080155344847\n",
      "Mediana: 3.094096119437998\n",
      "Moda: 0.4470101841659213\n",
      "Q1: 2.3561433177952895\n",
      "Q3: 3.737077352919901\n",
      "Zakres: 4.822744439821686\n",
      "Wariancja: 1.0158266192149314\n",
      "Odchylenie standardowe: 1.0078822447165796\n",
      "\n",
      "Statystyki dla próby 10,000 elementów:\n",
      "Średnia: 2.9820056663173147\n",
      "Mediana: 2.9725132605386557\n",
      "Moda: -0.7401006379517789\n",
      "Q1: 2.3114032886049083\n",
      "Q3: 3.649365304545653\n",
      "Zakres: 7.541760852918895\n",
      "Wariancja: 0.9746206734256179\n",
      "Odchylenie standardowe: 0.9872287847432417\n"
     ]
    }
   ],
   "source": [
    "# Wydrukowanie statystyk\n",
    "labels = [\"Średnia\", \"Mediana\", \"Moda\", \"Q1\", \"Q3\", \"Zakres\", \"Wariancja\", \"Odchylenie standardowe\"]\n",
    "print(\"Statystyki dla próby 100 elementów:\")\n",
    "for label, stat in zip(labels, stats_100):\n",
    "    print(f\"{label}: {stat}\")\n",
    "\n",
    "print(\"\\nStatystyki dla próby 10,000 elementów:\")\n",
    "for label, stat in zip(labels, stats_10000):\n",
    "    print(f\"{label}: {stat}\")\n"
   ]
  },
  {
   "cell_type": "code",
   "execution_count": null,
   "id": "2fab27e4",
   "metadata": {},
   "outputs": [],
   "source": [
    "print(\"\\nKorelacja pomiędzy dwoma zestawami danych:\")\n",
    "correlation = np.corrcoef(data_100, data_10000[:100])[0, 1]\n",
    "print(f\"Korelacja: {correlation}\")\n",
    "\n",
    "# Opis statystyk na podstawie powyższych wyników\n",
    "Średnia: Wartości średnie dla obu zestawów powinny być bliskie wartości 3 (średniej populacji). Z większą próbką wartość średnia będzie bardziej stabilna i bliższa wartości populacji.\n",
    "\n",
    "Mediana: Podobnie jak średnia, mediana powinna być stabilniejsza dla większej próby.\n",
    "\n",
    "Moda: Dla danych ciągłych moda jest trudna do ustalenia.\n",
    "\n",
    "Kwartyle: Kwartyle powinny być stabilniejsze i dokładniejsze dla większej próby.\n",
    "\n",
    "Zakres: W większych próbach zakres jest zwykle większy.\n",
    "\n",
    "Wariancja i Odchylenie Standardowe: Dla większej próby, te wartości będą bardziej stabilne i reprezentatywne dla populacji.\n",
    "\n",
    "Korelacja: Korelacja między dwoma zestawami danych może być niewielka, ponieważ są one losowo generowane."
   ]
  }
 ],
 "metadata": {
  "kernelspec": {
   "display_name": "Python 3 (ipykernel)",
   "language": "python",
   "name": "python3"
  },
  "language_info": {
   "codemirror_mode": {
    "name": "ipython",
    "version": 3
   },
   "file_extension": ".py",
   "mimetype": "text/x-python",
   "name": "python",
   "nbconvert_exporter": "python",
   "pygments_lexer": "ipython3",
   "version": "3.8.2"
  }
 },
 "nbformat": 4,
 "nbformat_minor": 5
}
